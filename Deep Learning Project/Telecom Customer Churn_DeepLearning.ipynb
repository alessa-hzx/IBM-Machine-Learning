{
 "cells": [
  {
   "cell_type": "markdown",
   "metadata": {},
   "source": [
    "# Deep Learning: Telecom Customer Churn Prediction\n",
    "\n",
    "* Summary and basic information of the data\n",
    "* Replace null values and perform exploratoy data analysis\n",
    "* Transform skewed variables, categorical and binary features\n",
    "* Dimensionality reduction (PCA)\n",
    "* Make prediction using Logistic Regression, NN, CNN\n",
    "\n",
    "data source: https://www.kaggle.com/jpacse/datasets-for-churn-telecom"
   ]
  },
  {
   "cell_type": "code",
   "execution_count": 2,
   "metadata": {},
   "outputs": [
    {
     "name": "stdout",
     "output_type": "stream",
     "text": [
      "Populating the interactive namespace from numpy and matplotlib\n"
     ]
    }
   ],
   "source": [
    "import os\n",
    "import numpy as np\n",
    "import pandas as pd\n",
    "import matplotlib.pyplot as plt\n",
    "import seaborn as sns\n",
    "from sklearn.preprocessing import LabelBinarizer, LabelEncoder, MinMaxScaler\n",
    "from sklearn.decomposition import PCA\n",
    "from sklearn.model_selection import StratifiedShuffleSplit\n",
    "from sklearn.linear_model import LogisticRegression\n",
    "import tensorflow.keras\n",
    "from tensorflow.keras.models import Sequential\n",
    "from tensorflow.keras.layers import Dense, Dropout, Activation, Flatten\n",
    "from tensorflow.keras.layers import Conv1D, MaxPooling1D\n",
    "from sklearn import metrics\n",
    "%pylab inline"
   ]
  },
  {
   "cell_type": "markdown",
   "metadata": {},
   "source": [
    "## Data Summary"
   ]
  },
  {
   "cell_type": "code",
   "execution_count": 3,
   "metadata": {},
   "outputs": [],
   "source": [
    "# load data\n",
    "path = os.getcwd()\n",
    "file = os.sep.join([path] + ['cell2celltrain.csv'])\n",
    "data = pd.read_csv(file)"
   ]
  },
  {
   "cell_type": "code",
   "execution_count": 4,
   "metadata": {
    "scrolled": true
   },
   "outputs": [
    {
     "data": {
      "text/html": [
       "<div>\n",
       "<style scoped>\n",
       "    .dataframe tbody tr th:only-of-type {\n",
       "        vertical-align: middle;\n",
       "    }\n",
       "\n",
       "    .dataframe tbody tr th {\n",
       "        vertical-align: top;\n",
       "    }\n",
       "\n",
       "    .dataframe thead th {\n",
       "        text-align: right;\n",
       "    }\n",
       "</style>\n",
       "<table border=\"1\" class=\"dataframe\">\n",
       "  <thead>\n",
       "    <tr style=\"text-align: right;\">\n",
       "      <th></th>\n",
       "      <th>CustomerID</th>\n",
       "      <th>Churn</th>\n",
       "      <th>MonthlyRevenue</th>\n",
       "      <th>MonthlyMinutes</th>\n",
       "      <th>TotalRecurringCharge</th>\n",
       "      <th>DirectorAssistedCalls</th>\n",
       "      <th>OverageMinutes</th>\n",
       "      <th>RoamingCalls</th>\n",
       "      <th>PercChangeMinutes</th>\n",
       "      <th>PercChangeRevenues</th>\n",
       "      <th>...</th>\n",
       "      <th>ReferralsMadeBySubscriber</th>\n",
       "      <th>IncomeGroup</th>\n",
       "      <th>OwnsMotorcycle</th>\n",
       "      <th>AdjustmentsToCreditRating</th>\n",
       "      <th>HandsetPrice</th>\n",
       "      <th>MadeCallToRetentionTeam</th>\n",
       "      <th>CreditRating</th>\n",
       "      <th>PrizmCode</th>\n",
       "      <th>Occupation</th>\n",
       "      <th>MaritalStatus</th>\n",
       "    </tr>\n",
       "  </thead>\n",
       "  <tbody>\n",
       "    <tr>\n",
       "      <th>0</th>\n",
       "      <td>3000002</td>\n",
       "      <td>Yes</td>\n",
       "      <td>24.00</td>\n",
       "      <td>219.0</td>\n",
       "      <td>22.0</td>\n",
       "      <td>0.25</td>\n",
       "      <td>0.0</td>\n",
       "      <td>0.0</td>\n",
       "      <td>-157.0</td>\n",
       "      <td>-19.0</td>\n",
       "      <td>...</td>\n",
       "      <td>0</td>\n",
       "      <td>4</td>\n",
       "      <td>No</td>\n",
       "      <td>0</td>\n",
       "      <td>30</td>\n",
       "      <td>Yes</td>\n",
       "      <td>1-Highest</td>\n",
       "      <td>Suburban</td>\n",
       "      <td>Professional</td>\n",
       "      <td>No</td>\n",
       "    </tr>\n",
       "    <tr>\n",
       "      <th>1</th>\n",
       "      <td>3000010</td>\n",
       "      <td>Yes</td>\n",
       "      <td>16.99</td>\n",
       "      <td>10.0</td>\n",
       "      <td>17.0</td>\n",
       "      <td>0.00</td>\n",
       "      <td>0.0</td>\n",
       "      <td>0.0</td>\n",
       "      <td>-4.0</td>\n",
       "      <td>0.0</td>\n",
       "      <td>...</td>\n",
       "      <td>0</td>\n",
       "      <td>5</td>\n",
       "      <td>No</td>\n",
       "      <td>0</td>\n",
       "      <td>30</td>\n",
       "      <td>No</td>\n",
       "      <td>4-Medium</td>\n",
       "      <td>Suburban</td>\n",
       "      <td>Professional</td>\n",
       "      <td>Yes</td>\n",
       "    </tr>\n",
       "    <tr>\n",
       "      <th>2</th>\n",
       "      <td>3000014</td>\n",
       "      <td>No</td>\n",
       "      <td>38.00</td>\n",
       "      <td>8.0</td>\n",
       "      <td>38.0</td>\n",
       "      <td>0.00</td>\n",
       "      <td>0.0</td>\n",
       "      <td>0.0</td>\n",
       "      <td>-2.0</td>\n",
       "      <td>0.0</td>\n",
       "      <td>...</td>\n",
       "      <td>0</td>\n",
       "      <td>6</td>\n",
       "      <td>No</td>\n",
       "      <td>0</td>\n",
       "      <td>Unknown</td>\n",
       "      <td>No</td>\n",
       "      <td>3-Good</td>\n",
       "      <td>Town</td>\n",
       "      <td>Crafts</td>\n",
       "      <td>Yes</td>\n",
       "    </tr>\n",
       "    <tr>\n",
       "      <th>3</th>\n",
       "      <td>3000022</td>\n",
       "      <td>No</td>\n",
       "      <td>82.28</td>\n",
       "      <td>1312.0</td>\n",
       "      <td>75.0</td>\n",
       "      <td>1.24</td>\n",
       "      <td>0.0</td>\n",
       "      <td>0.0</td>\n",
       "      <td>157.0</td>\n",
       "      <td>8.1</td>\n",
       "      <td>...</td>\n",
       "      <td>0</td>\n",
       "      <td>6</td>\n",
       "      <td>No</td>\n",
       "      <td>0</td>\n",
       "      <td>10</td>\n",
       "      <td>No</td>\n",
       "      <td>4-Medium</td>\n",
       "      <td>Other</td>\n",
       "      <td>Other</td>\n",
       "      <td>No</td>\n",
       "    </tr>\n",
       "    <tr>\n",
       "      <th>4</th>\n",
       "      <td>3000026</td>\n",
       "      <td>Yes</td>\n",
       "      <td>17.14</td>\n",
       "      <td>0.0</td>\n",
       "      <td>17.0</td>\n",
       "      <td>0.00</td>\n",
       "      <td>0.0</td>\n",
       "      <td>0.0</td>\n",
       "      <td>0.0</td>\n",
       "      <td>-0.2</td>\n",
       "      <td>...</td>\n",
       "      <td>0</td>\n",
       "      <td>9</td>\n",
       "      <td>No</td>\n",
       "      <td>1</td>\n",
       "      <td>10</td>\n",
       "      <td>No</td>\n",
       "      <td>1-Highest</td>\n",
       "      <td>Other</td>\n",
       "      <td>Professional</td>\n",
       "      <td>Yes</td>\n",
       "    </tr>\n",
       "  </tbody>\n",
       "</table>\n",
       "<p>5 rows × 58 columns</p>\n",
       "</div>"
      ],
      "text/plain": [
       "   CustomerID Churn  MonthlyRevenue  MonthlyMinutes  TotalRecurringCharge  \\\n",
       "0     3000002   Yes           24.00           219.0                  22.0   \n",
       "1     3000010   Yes           16.99            10.0                  17.0   \n",
       "2     3000014    No           38.00             8.0                  38.0   \n",
       "3     3000022    No           82.28          1312.0                  75.0   \n",
       "4     3000026   Yes           17.14             0.0                  17.0   \n",
       "\n",
       "   DirectorAssistedCalls  OverageMinutes  RoamingCalls  PercChangeMinutes  \\\n",
       "0                   0.25             0.0           0.0             -157.0   \n",
       "1                   0.00             0.0           0.0               -4.0   \n",
       "2                   0.00             0.0           0.0               -2.0   \n",
       "3                   1.24             0.0           0.0              157.0   \n",
       "4                   0.00             0.0           0.0                0.0   \n",
       "\n",
       "   PercChangeRevenues  ...  ReferralsMadeBySubscriber  IncomeGroup  \\\n",
       "0               -19.0  ...                          0            4   \n",
       "1                 0.0  ...                          0            5   \n",
       "2                 0.0  ...                          0            6   \n",
       "3                 8.1  ...                          0            6   \n",
       "4                -0.2  ...                          0            9   \n",
       "\n",
       "   OwnsMotorcycle  AdjustmentsToCreditRating  HandsetPrice  \\\n",
       "0              No                          0            30   \n",
       "1              No                          0            30   \n",
       "2              No                          0       Unknown   \n",
       "3              No                          0            10   \n",
       "4              No                          1            10   \n",
       "\n",
       "   MadeCallToRetentionTeam  CreditRating  PrizmCode    Occupation  \\\n",
       "0                      Yes     1-Highest   Suburban  Professional   \n",
       "1                       No      4-Medium   Suburban  Professional   \n",
       "2                       No        3-Good       Town        Crafts   \n",
       "3                       No      4-Medium      Other         Other   \n",
       "4                       No     1-Highest      Other  Professional   \n",
       "\n",
       "   MaritalStatus  \n",
       "0             No  \n",
       "1            Yes  \n",
       "2            Yes  \n",
       "3             No  \n",
       "4            Yes  \n",
       "\n",
       "[5 rows x 58 columns]"
      ]
     },
     "execution_count": 4,
     "metadata": {},
     "output_type": "execute_result"
    }
   ],
   "source": [
    "data.head()"
   ]
  },
  {
   "cell_type": "code",
   "execution_count": 11,
   "metadata": {},
   "outputs": [
    {
     "data": {
      "text/plain": [
       "Index(['CustomerID', 'Churn', 'MonthlyRevenue', 'MonthlyMinutes',\n",
       "       'TotalRecurringCharge', 'DirectorAssistedCalls', 'OverageMinutes',\n",
       "       'RoamingCalls', 'PercChangeMinutes', 'PercChangeRevenues',\n",
       "       'DroppedCalls', 'BlockedCalls', 'UnansweredCalls', 'CustomerCareCalls',\n",
       "       'ThreewayCalls', 'ReceivedCalls', 'OutboundCalls', 'InboundCalls',\n",
       "       'PeakCallsInOut', 'OffPeakCallsInOut', 'DroppedBlockedCalls',\n",
       "       'CallForwardingCalls', 'CallWaitingCalls', 'MonthsInService',\n",
       "       'UniqueSubs', 'ActiveSubs', 'ServiceArea', 'Handsets', 'HandsetModels',\n",
       "       'CurrentEquipmentDays', 'AgeHH1', 'AgeHH2', 'ChildrenInHH',\n",
       "       'HandsetRefurbished', 'HandsetWebCapable', 'TruckOwner', 'RVOwner',\n",
       "       'Homeownership', 'BuysViaMailOrder', 'RespondsToMailOffers',\n",
       "       'OptOutMailings', 'NonUSTravel', 'OwnsComputer', 'HasCreditCard',\n",
       "       'RetentionCalls', 'RetentionOffersAccepted', 'NewCellphoneUser',\n",
       "       'NotNewCellphoneUser', 'ReferralsMadeBySubscriber', 'IncomeGroup',\n",
       "       'OwnsMotorcycle', 'AdjustmentsToCreditRating', 'HandsetPrice',\n",
       "       'MadeCallToRetentionTeam', 'CreditRating', 'PrizmCode', 'Occupation',\n",
       "       'MaritalStatus'],\n",
       "      dtype='object')"
      ]
     },
     "execution_count": 11,
     "metadata": {},
     "output_type": "execute_result"
    }
   ],
   "source": [
    "data.columns"
   ]
  },
  {
   "cell_type": "code",
   "execution_count": 8,
   "metadata": {
    "scrolled": false
   },
   "outputs": [
    {
     "name": "stdout",
     "output_type": "stream",
     "text": [
      "<class 'pandas.core.frame.DataFrame'>\n",
      "RangeIndex: 51047 entries, 0 to 51046\n",
      "Data columns (total 58 columns):\n",
      " #   Column                     Non-Null Count  Dtype  \n",
      "---  ------                     --------------  -----  \n",
      " 0   CustomerID                 51047 non-null  int64  \n",
      " 1   Churn                      51047 non-null  object \n",
      " 2   MonthlyRevenue             50891 non-null  float64\n",
      " 3   MonthlyMinutes             50891 non-null  float64\n",
      " 4   TotalRecurringCharge       50891 non-null  float64\n",
      " 5   DirectorAssistedCalls      50891 non-null  float64\n",
      " 6   OverageMinutes             50891 non-null  float64\n",
      " 7   RoamingCalls               50891 non-null  float64\n",
      " 8   PercChangeMinutes          50680 non-null  float64\n",
      " 9   PercChangeRevenues         50680 non-null  float64\n",
      " 10  DroppedCalls               51047 non-null  float64\n",
      " 11  BlockedCalls               51047 non-null  float64\n",
      " 12  UnansweredCalls            51047 non-null  float64\n",
      " 13  CustomerCareCalls          51047 non-null  float64\n",
      " 14  ThreewayCalls              51047 non-null  float64\n",
      " 15  ReceivedCalls              51047 non-null  float64\n",
      " 16  OutboundCalls              51047 non-null  float64\n",
      " 17  InboundCalls               51047 non-null  float64\n",
      " 18  PeakCallsInOut             51047 non-null  float64\n",
      " 19  OffPeakCallsInOut          51047 non-null  float64\n",
      " 20  DroppedBlockedCalls        51047 non-null  float64\n",
      " 21  CallForwardingCalls        51047 non-null  float64\n",
      " 22  CallWaitingCalls           51047 non-null  float64\n",
      " 23  MonthsInService            51047 non-null  int64  \n",
      " 24  UniqueSubs                 51047 non-null  int64  \n",
      " 25  ActiveSubs                 51047 non-null  int64  \n",
      " 26  ServiceArea                51023 non-null  object \n",
      " 27  Handsets                   51046 non-null  float64\n",
      " 28  HandsetModels              51046 non-null  float64\n",
      " 29  CurrentEquipmentDays       51046 non-null  float64\n",
      " 30  AgeHH1                     50138 non-null  float64\n",
      " 31  AgeHH2                     50138 non-null  float64\n",
      " 32  ChildrenInHH               51047 non-null  object \n",
      " 33  HandsetRefurbished         51047 non-null  object \n",
      " 34  HandsetWebCapable          51047 non-null  object \n",
      " 35  TruckOwner                 51047 non-null  object \n",
      " 36  RVOwner                    51047 non-null  object \n",
      " 37  Homeownership              51047 non-null  object \n",
      " 38  BuysViaMailOrder           51047 non-null  object \n",
      " 39  RespondsToMailOffers       51047 non-null  object \n",
      " 40  OptOutMailings             51047 non-null  object \n",
      " 41  NonUSTravel                51047 non-null  object \n",
      " 42  OwnsComputer               51047 non-null  object \n",
      " 43  HasCreditCard              51047 non-null  object \n",
      " 44  RetentionCalls             51047 non-null  int64  \n",
      " 45  RetentionOffersAccepted    51047 non-null  int64  \n",
      " 46  NewCellphoneUser           51047 non-null  object \n",
      " 47  NotNewCellphoneUser        51047 non-null  object \n",
      " 48  ReferralsMadeBySubscriber  51047 non-null  int64  \n",
      " 49  IncomeGroup                51047 non-null  int64  \n",
      " 50  OwnsMotorcycle             51047 non-null  object \n",
      " 51  AdjustmentsToCreditRating  51047 non-null  int64  \n",
      " 52  HandsetPrice               51047 non-null  object \n",
      " 53  MadeCallToRetentionTeam    51047 non-null  object \n",
      " 54  CreditRating               51047 non-null  object \n",
      " 55  PrizmCode                  51047 non-null  object \n",
      " 56  Occupation                 51047 non-null  object \n",
      " 57  MaritalStatus              51047 non-null  object \n",
      "dtypes: float64(26), int64(9), object(23)\n",
      "memory usage: 22.6+ MB\n",
      "None\n"
     ]
    }
   ],
   "source": [
    "data.info()"
   ]
  },
  {
   "cell_type": "code",
   "execution_count": 6,
   "metadata": {
    "scrolled": true
   },
   "outputs": [
    {
     "data": {
      "text/plain": [
       "MonthlyRevenue           156\n",
       "MonthlyMinutes           156\n",
       "TotalRecurringCharge     156\n",
       "DirectorAssistedCalls    156\n",
       "OverageMinutes           156\n",
       "RoamingCalls             156\n",
       "PercChangeMinutes        367\n",
       "PercChangeRevenues       367\n",
       "ServiceArea               24\n",
       "Handsets                   1\n",
       "HandsetModels              1\n",
       "CurrentEquipmentDays       1\n",
       "AgeHH1                   909\n",
       "AgeHH2                   909\n",
       "dtype: int64"
      ]
     },
     "execution_count": 6,
     "metadata": {},
     "output_type": "execute_result"
    }
   ],
   "source": [
    "# number of missing value\n",
    "na_cols = data.columns[data.isnull().sum() != 0]\n",
    "data[na_cols].isnull().sum()"
   ]
  },
  {
   "cell_type": "code",
   "execution_count": 7,
   "metadata": {},
   "outputs": [
    {
     "data": {
      "text/plain": [
       "3515"
      ]
     },
     "execution_count": 7,
     "metadata": {},
     "output_type": "execute_result"
    }
   ],
   "source": [
    "data[na_cols].isnull().sum().sum()"
   ]
  },
  {
   "cell_type": "code",
   "execution_count": 13,
   "metadata": {},
   "outputs": [
    {
     "data": {
      "image/png": "[encoded data removed]",
      "text/plain": [
       "<Figure size 432x288 with 1 Axes>"
      ]
     },
     "metadata": {
      "needs_background": "light"
     },
     "output_type": "display_data"
    }
   ],
   "source": [
    "data.Churn.hist();\n",
    "plt.xlabel('Churn');\n",
    "plt.ylabel('Frequency');\n",
    "plt.savefig('Churn')"
   ]
  },
  {
   "cell_type": "code",
   "execution_count": 7,
   "metadata": {},
   "outputs": [
    {
     "data": {
      "text/plain": [
       "No     0.711815\n",
       "Yes    0.288185\n",
       "Name: Churn, dtype: float64"
      ]
     },
     "execution_count": 7,
     "metadata": {},
     "output_type": "execute_result"
    }
   ],
   "source": [
    "data.Churn.value_counts(normalize = True)"
   ]
  },
  {
   "cell_type": "markdown",
   "metadata": {},
   "source": [
    "## Data Cleaning and EDA"
   ]
  },
  {
   "cell_type": "code",
   "execution_count": 14,
   "metadata": {},
   "outputs": [],
   "source": [
    "# drop customer ID and service area\n",
    "data.drop(columns = ['CustomerID', 'ServiceArea'], inplace = True)"
   ]
  },
  {
   "cell_type": "code",
   "execution_count": 15,
   "metadata": {},
   "outputs": [],
   "source": [
    "# replace missing values in numerical columns with 0\n",
    "for col in na_cols:\n",
    "    if col != 'ServiceArea':\n",
    "        data[col].fillna(0, inplace = True)"
   ]
  },
  {
   "cell_type": "code",
   "execution_count": 16,
   "metadata": {},
   "outputs": [],
   "source": [
    "# numerical columns and non-numerical columns\n",
    "num_cols = data.columns[data.dtypes != 'object']\n",
    "obj_cols = data.columns[data.dtypes == 'object']"
   ]
  },
  {
   "cell_type": "code",
   "execution_count": 19,
   "metadata": {
    "scrolled": true
   },
   "outputs": [
    {
     "data": {
      "text/plain": [
       "Index(['MonthlyRevenue', 'MonthlyMinutes', 'TotalRecurringCharge',\n",
       "       'DirectorAssistedCalls', 'OverageMinutes', 'RoamingCalls',\n",
       "       'PercChangeMinutes', 'PercChangeRevenues', 'DroppedCalls',\n",
       "       'BlockedCalls', 'UnansweredCalls', 'CustomerCareCalls', 'ThreewayCalls',\n",
       "       'ReceivedCalls', 'OutboundCalls', 'InboundCalls', 'PeakCallsInOut',\n",
       "       'OffPeakCallsInOut', 'DroppedBlockedCalls', 'CallForwardingCalls',\n",
       "       'CallWaitingCalls', 'MonthsInService', 'UniqueSubs', 'ActiveSubs',\n",
       "       'Handsets', 'HandsetModels', 'CurrentEquipmentDays', 'AgeHH1', 'AgeHH2',\n",
       "       'RetentionCalls', 'RetentionOffersAccepted',\n",
       "       'ReferralsMadeBySubscriber', 'IncomeGroup',\n",
       "       'AdjustmentsToCreditRating'],\n",
       "      dtype='object')"
      ]
     },
     "execution_count": 19,
     "metadata": {},
     "output_type": "execute_result"
    }
   ],
   "source": [
    "num_cols"
   ]
  },
  {
   "cell_type": "markdown",
   "metadata": {},
   "source": [
    "### Numerical Features"
   ]
  },
  {
   "cell_type": "code",
   "execution_count": 12,
   "metadata": {},
   "outputs": [
    {
     "data": {
      "text/html": [
       "<div>\n",
       "<style scoped>\n",
       "    .dataframe tbody tr th:only-of-type {\n",
       "        vertical-align: middle;\n",
       "    }\n",
       "\n",
       "    .dataframe tbody tr th {\n",
       "        vertical-align: top;\n",
       "    }\n",
       "\n",
       "    .dataframe thead th {\n",
       "        text-align: right;\n",
       "    }\n",
       "</style>\n",
       "<table border=\"1\" class=\"dataframe\">\n",
       "  <thead>\n",
       "    <tr style=\"text-align: right;\">\n",
       "      <th></th>\n",
       "      <th>count</th>\n",
       "      <th>mean</th>\n",
       "      <th>std</th>\n",
       "      <th>min</th>\n",
       "      <th>25%</th>\n",
       "      <th>50%</th>\n",
       "      <th>75%</th>\n",
       "      <th>max</th>\n",
       "    </tr>\n",
       "  </thead>\n",
       "  <tbody>\n",
       "    <tr>\n",
       "      <th>MonthlyRevenue</th>\n",
       "      <td>51047.0</td>\n",
       "      <td>58.654694</td>\n",
       "      <td>44.557776</td>\n",
       "      <td>-6.17</td>\n",
       "      <td>33.5</td>\n",
       "      <td>48.29</td>\n",
       "      <td>70.96</td>\n",
       "      <td>1223.38</td>\n",
       "    </tr>\n",
       "    <tr>\n",
       "      <th>MonthlyMinutes</th>\n",
       "      <td>51047.0</td>\n",
       "      <td>524.047015</td>\n",
       "      <td>529.855789</td>\n",
       "      <td>0.00</td>\n",
       "      <td>156.0</td>\n",
       "      <td>365.00</td>\n",
       "      <td>722.00</td>\n",
       "      <td>7359.00</td>\n",
       "    </tr>\n",
       "    <tr>\n",
       "      <th>TotalRecurringCharge</th>\n",
       "      <td>51047.0</td>\n",
       "      <td>46.686975</td>\n",
       "      <td>23.952288</td>\n",
       "      <td>-11.00</td>\n",
       "      <td>30.0</td>\n",
       "      <td>45.00</td>\n",
       "      <td>60.00</td>\n",
       "      <td>400.00</td>\n",
       "    </tr>\n",
       "    <tr>\n",
       "      <th>DirectorAssistedCalls</th>\n",
       "      <td>51047.0</td>\n",
       "      <td>0.892493</td>\n",
       "      <td>2.225687</td>\n",
       "      <td>0.00</td>\n",
       "      <td>0.0</td>\n",
       "      <td>0.25</td>\n",
       "      <td>0.99</td>\n",
       "      <td>159.39</td>\n",
       "    </tr>\n",
       "    <tr>\n",
       "      <th>OverageMinutes</th>\n",
       "      <td>51047.0</td>\n",
       "      <td>39.905460</td>\n",
       "      <td>96.465678</td>\n",
       "      <td>0.00</td>\n",
       "      <td>0.0</td>\n",
       "      <td>2.00</td>\n",
       "      <td>40.00</td>\n",
       "      <td>4321.00</td>\n",
       "    </tr>\n",
       "    <tr>\n",
       "      <th>RoamingCalls</th>\n",
       "      <td>51047.0</td>\n",
       "      <td>1.232466</td>\n",
       "      <td>9.803517</td>\n",
       "      <td>0.00</td>\n",
       "      <td>0.0</td>\n",
       "      <td>0.00</td>\n",
       "      <td>0.20</td>\n",
       "      <td>1112.40</td>\n",
       "    </tr>\n",
       "    <tr>\n",
       "      <th>PercChangeMinutes</th>\n",
       "      <td>51047.0</td>\n",
       "      <td>-11.464885</td>\n",
       "      <td>256.589244</td>\n",
       "      <td>-3875.00</td>\n",
       "      <td>-82.0</td>\n",
       "      <td>-4.00</td>\n",
       "      <td>65.00</td>\n",
       "      <td>5192.00</td>\n",
       "    </tr>\n",
       "    <tr>\n",
       "      <th>PercChangeRevenues</th>\n",
       "      <td>51047.0</td>\n",
       "      <td>-1.183415</td>\n",
       "      <td>39.432523</td>\n",
       "      <td>-1107.70</td>\n",
       "      <td>-6.9</td>\n",
       "      <td>-0.30</td>\n",
       "      <td>1.55</td>\n",
       "      <td>2483.50</td>\n",
       "    </tr>\n",
       "    <tr>\n",
       "      <th>DroppedCalls</th>\n",
       "      <td>51047.0</td>\n",
       "      <td>6.011489</td>\n",
       "      <td>9.043955</td>\n",
       "      <td>0.00</td>\n",
       "      <td>0.7</td>\n",
       "      <td>3.00</td>\n",
       "      <td>7.70</td>\n",
       "      <td>221.70</td>\n",
       "    </tr>\n",
       "    <tr>\n",
       "      <th>BlockedCalls</th>\n",
       "      <td>51047.0</td>\n",
       "      <td>4.085672</td>\n",
       "      <td>10.946905</td>\n",
       "      <td>0.00</td>\n",
       "      <td>0.0</td>\n",
       "      <td>1.00</td>\n",
       "      <td>3.70</td>\n",
       "      <td>384.30</td>\n",
       "    </tr>\n",
       "    <tr>\n",
       "      <th>UnansweredCalls</th>\n",
       "      <td>51047.0</td>\n",
       "      <td>28.288981</td>\n",
       "      <td>38.876194</td>\n",
       "      <td>0.00</td>\n",
       "      <td>5.3</td>\n",
       "      <td>16.30</td>\n",
       "      <td>36.30</td>\n",
       "      <td>848.70</td>\n",
       "    </tr>\n",
       "    <tr>\n",
       "      <th>CustomerCareCalls</th>\n",
       "      <td>51047.0</td>\n",
       "      <td>1.868999</td>\n",
       "      <td>5.096138</td>\n",
       "      <td>0.00</td>\n",
       "      <td>0.0</td>\n",
       "      <td>0.00</td>\n",
       "      <td>1.70</td>\n",
       "      <td>327.30</td>\n",
       "    </tr>\n",
       "    <tr>\n",
       "      <th>ThreewayCalls</th>\n",
       "      <td>51047.0</td>\n",
       "      <td>0.298838</td>\n",
       "      <td>1.168277</td>\n",
       "      <td>0.00</td>\n",
       "      <td>0.0</td>\n",
       "      <td>0.00</td>\n",
       "      <td>0.30</td>\n",
       "      <td>66.00</td>\n",
       "    </tr>\n",
       "    <tr>\n",
       "      <th>ReceivedCalls</th>\n",
       "      <td>51047.0</td>\n",
       "      <td>114.800121</td>\n",
       "      <td>166.485896</td>\n",
       "      <td>0.00</td>\n",
       "      <td>8.3</td>\n",
       "      <td>52.80</td>\n",
       "      <td>153.50</td>\n",
       "      <td>2692.40</td>\n",
       "    </tr>\n",
       "    <tr>\n",
       "      <th>OutboundCalls</th>\n",
       "      <td>51047.0</td>\n",
       "      <td>25.377715</td>\n",
       "      <td>35.209147</td>\n",
       "      <td>0.00</td>\n",
       "      <td>3.3</td>\n",
       "      <td>13.70</td>\n",
       "      <td>34.00</td>\n",
       "      <td>644.30</td>\n",
       "    </tr>\n",
       "    <tr>\n",
       "      <th>InboundCalls</th>\n",
       "      <td>51047.0</td>\n",
       "      <td>8.178104</td>\n",
       "      <td>16.665878</td>\n",
       "      <td>0.00</td>\n",
       "      <td>0.0</td>\n",
       "      <td>2.00</td>\n",
       "      <td>9.30</td>\n",
       "      <td>519.30</td>\n",
       "    </tr>\n",
       "    <tr>\n",
       "      <th>PeakCallsInOut</th>\n",
       "      <td>51047.0</td>\n",
       "      <td>90.549515</td>\n",
       "      <td>104.947470</td>\n",
       "      <td>0.00</td>\n",
       "      <td>23.0</td>\n",
       "      <td>62.00</td>\n",
       "      <td>121.30</td>\n",
       "      <td>2090.70</td>\n",
       "    </tr>\n",
       "    <tr>\n",
       "      <th>OffPeakCallsInOut</th>\n",
       "      <td>51047.0</td>\n",
       "      <td>67.650790</td>\n",
       "      <td>92.752699</td>\n",
       "      <td>0.00</td>\n",
       "      <td>11.0</td>\n",
       "      <td>35.70</td>\n",
       "      <td>88.70</td>\n",
       "      <td>1474.70</td>\n",
       "    </tr>\n",
       "    <tr>\n",
       "      <th>DroppedBlockedCalls</th>\n",
       "      <td>51047.0</td>\n",
       "      <td>10.158003</td>\n",
       "      <td>15.555284</td>\n",
       "      <td>0.00</td>\n",
       "      <td>1.7</td>\n",
       "      <td>5.30</td>\n",
       "      <td>12.30</td>\n",
       "      <td>411.70</td>\n",
       "    </tr>\n",
       "    <tr>\n",
       "      <th>CallForwardingCalls</th>\n",
       "      <td>51047.0</td>\n",
       "      <td>0.012277</td>\n",
       "      <td>0.594168</td>\n",
       "      <td>0.00</td>\n",
       "      <td>0.0</td>\n",
       "      <td>0.00</td>\n",
       "      <td>0.00</td>\n",
       "      <td>81.30</td>\n",
       "    </tr>\n",
       "    <tr>\n",
       "      <th>CallWaitingCalls</th>\n",
       "      <td>51047.0</td>\n",
       "      <td>1.840504</td>\n",
       "      <td>5.585129</td>\n",
       "      <td>0.00</td>\n",
       "      <td>0.0</td>\n",
       "      <td>0.30</td>\n",
       "      <td>1.30</td>\n",
       "      <td>212.70</td>\n",
       "    </tr>\n",
       "    <tr>\n",
       "      <th>MonthsInService</th>\n",
       "      <td>51047.0</td>\n",
       "      <td>18.756264</td>\n",
       "      <td>9.800138</td>\n",
       "      <td>6.00</td>\n",
       "      <td>11.0</td>\n",
       "      <td>16.00</td>\n",
       "      <td>24.00</td>\n",
       "      <td>61.00</td>\n",
       "    </tr>\n",
       "    <tr>\n",
       "      <th>UniqueSubs</th>\n",
       "      <td>51047.0</td>\n",
       "      <td>1.532157</td>\n",
       "      <td>1.223384</td>\n",
       "      <td>1.00</td>\n",
       "      <td>1.0</td>\n",
       "      <td>1.00</td>\n",
       "      <td>2.00</td>\n",
       "      <td>196.00</td>\n",
       "    </tr>\n",
       "    <tr>\n",
       "      <th>ActiveSubs</th>\n",
       "      <td>51047.0</td>\n",
       "      <td>1.354340</td>\n",
       "      <td>0.675477</td>\n",
       "      <td>0.00</td>\n",
       "      <td>1.0</td>\n",
       "      <td>1.00</td>\n",
       "      <td>2.00</td>\n",
       "      <td>53.00</td>\n",
       "    </tr>\n",
       "    <tr>\n",
       "      <th>Handsets</th>\n",
       "      <td>51047.0</td>\n",
       "      <td>1.805611</td>\n",
       "      <td>1.331184</td>\n",
       "      <td>0.00</td>\n",
       "      <td>1.0</td>\n",
       "      <td>1.00</td>\n",
       "      <td>2.00</td>\n",
       "      <td>24.00</td>\n",
       "    </tr>\n",
       "    <tr>\n",
       "      <th>HandsetModels</th>\n",
       "      <td>51047.0</td>\n",
       "      <td>1.558720</td>\n",
       "      <td>0.905950</td>\n",
       "      <td>0.00</td>\n",
       "      <td>1.0</td>\n",
       "      <td>1.00</td>\n",
       "      <td>2.00</td>\n",
       "      <td>15.00</td>\n",
       "    </tr>\n",
       "    <tr>\n",
       "      <th>CurrentEquipmentDays</th>\n",
       "      <td>51047.0</td>\n",
       "      <td>380.538386</td>\n",
       "      <td>253.805085</td>\n",
       "      <td>-5.00</td>\n",
       "      <td>205.0</td>\n",
       "      <td>329.00</td>\n",
       "      <td>515.00</td>\n",
       "      <td>1812.00</td>\n",
       "    </tr>\n",
       "    <tr>\n",
       "      <th>AgeHH1</th>\n",
       "      <td>51047.0</td>\n",
       "      <td>30.780085</td>\n",
       "      <td>22.285796</td>\n",
       "      <td>0.00</td>\n",
       "      <td>0.0</td>\n",
       "      <td>36.00</td>\n",
       "      <td>48.00</td>\n",
       "      <td>99.00</td>\n",
       "    </tr>\n",
       "    <tr>\n",
       "      <th>AgeHH2</th>\n",
       "      <td>51047.0</td>\n",
       "      <td>20.767626</td>\n",
       "      <td>23.881611</td>\n",
       "      <td>0.00</td>\n",
       "      <td>0.0</td>\n",
       "      <td>0.00</td>\n",
       "      <td>42.00</td>\n",
       "      <td>99.00</td>\n",
       "    </tr>\n",
       "    <tr>\n",
       "      <th>RetentionCalls</th>\n",
       "      <td>51047.0</td>\n",
       "      <td>0.037201</td>\n",
       "      <td>0.206483</td>\n",
       "      <td>0.00</td>\n",
       "      <td>0.0</td>\n",
       "      <td>0.00</td>\n",
       "      <td>0.00</td>\n",
       "      <td>4.00</td>\n",
       "    </tr>\n",
       "    <tr>\n",
       "      <th>RetentionOffersAccepted</th>\n",
       "      <td>51047.0</td>\n",
       "      <td>0.018277</td>\n",
       "      <td>0.142458</td>\n",
       "      <td>0.00</td>\n",
       "      <td>0.0</td>\n",
       "      <td>0.00</td>\n",
       "      <td>0.00</td>\n",
       "      <td>3.00</td>\n",
       "    </tr>\n",
       "    <tr>\n",
       "      <th>ReferralsMadeBySubscriber</th>\n",
       "      <td>51047.0</td>\n",
       "      <td>0.052070</td>\n",
       "      <td>0.307592</td>\n",
       "      <td>0.00</td>\n",
       "      <td>0.0</td>\n",
       "      <td>0.00</td>\n",
       "      <td>0.00</td>\n",
       "      <td>35.00</td>\n",
       "    </tr>\n",
       "    <tr>\n",
       "      <th>IncomeGroup</th>\n",
       "      <td>51047.0</td>\n",
       "      <td>4.324524</td>\n",
       "      <td>3.138236</td>\n",
       "      <td>0.00</td>\n",
       "      <td>0.0</td>\n",
       "      <td>5.00</td>\n",
       "      <td>7.00</td>\n",
       "      <td>9.00</td>\n",
       "    </tr>\n",
       "    <tr>\n",
       "      <th>AdjustmentsToCreditRating</th>\n",
       "      <td>51047.0</td>\n",
       "      <td>0.053911</td>\n",
       "      <td>0.383147</td>\n",
       "      <td>0.00</td>\n",
       "      <td>0.0</td>\n",
       "      <td>0.00</td>\n",
       "      <td>0.00</td>\n",
       "      <td>25.00</td>\n",
       "    </tr>\n",
       "  </tbody>\n",
       "</table>\n",
       "</div>"
      ],
      "text/plain": [
       "                             count        mean         std      min    25%  \\\n",
       "MonthlyRevenue             51047.0   58.654694   44.557776    -6.17   33.5   \n",
       "MonthlyMinutes             51047.0  524.047015  529.855789     0.00  156.0   \n",
       "TotalRecurringCharge       51047.0   46.686975   23.952288   -11.00   30.0   \n",
       "DirectorAssistedCalls      51047.0    0.892493    2.225687     0.00    0.0   \n",
       "OverageMinutes             51047.0   39.905460   96.465678     0.00    0.0   \n",
       "RoamingCalls               51047.0    1.232466    9.803517     0.00    0.0   \n",
       "PercChangeMinutes          51047.0  -11.464885  256.589244 -3875.00  -82.0   \n",
       "PercChangeRevenues         51047.0   -1.183415   39.432523 -1107.70   -6.9   \n",
       "DroppedCalls               51047.0    6.011489    9.043955     0.00    0.7   \n",
       "BlockedCalls               51047.0    4.085672   10.946905     0.00    0.0   \n",
       "UnansweredCalls            51047.0   28.288981   38.876194     0.00    5.3   \n",
       "CustomerCareCalls          51047.0    1.868999    5.096138     0.00    0.0   \n",
       "ThreewayCalls              51047.0    0.298838    1.168277     0.00    0.0   \n",
       "ReceivedCalls              51047.0  114.800121  166.485896     0.00    8.3   \n",
       "OutboundCalls              51047.0   25.377715   35.209147     0.00    3.3   \n",
       "InboundCalls               51047.0    8.178104   16.665878     0.00    0.0   \n",
       "PeakCallsInOut             51047.0   90.549515  104.947470     0.00   23.0   \n",
       "OffPeakCallsInOut          51047.0   67.650790   92.752699     0.00   11.0   \n",
       "DroppedBlockedCalls        51047.0   10.158003   15.555284     0.00    1.7   \n",
       "CallForwardingCalls        51047.0    0.012277    0.594168     0.00    0.0   \n",
       "CallWaitingCalls           51047.0    1.840504    5.585129     0.00    0.0   \n",
       "MonthsInService            51047.0   18.756264    9.800138     6.00   11.0   \n",
       "UniqueSubs                 51047.0    1.532157    1.223384     1.00    1.0   \n",
       "ActiveSubs                 51047.0    1.354340    0.675477     0.00    1.0   \n",
       "Handsets                   51047.0    1.805611    1.331184     0.00    1.0   \n",
       "HandsetModels              51047.0    1.558720    0.905950     0.00    1.0   \n",
       "CurrentEquipmentDays       51047.0  380.538386  253.805085    -5.00  205.0   \n",
       "AgeHH1                     51047.0   30.780085   22.285796     0.00    0.0   \n",
       "AgeHH2                     51047.0   20.767626   23.881611     0.00    0.0   \n",
       "RetentionCalls             51047.0    0.037201    0.206483     0.00    0.0   \n",
       "RetentionOffersAccepted    51047.0    0.018277    0.142458     0.00    0.0   \n",
       "ReferralsMadeBySubscriber  51047.0    0.052070    0.307592     0.00    0.0   \n",
       "IncomeGroup                51047.0    4.324524    3.138236     0.00    0.0   \n",
       "AdjustmentsToCreditRating  51047.0    0.053911    0.383147     0.00    0.0   \n",
       "\n",
       "                              50%     75%      max  \n",
       "MonthlyRevenue              48.29   70.96  1223.38  \n",
       "MonthlyMinutes             365.00  722.00  7359.00  \n",
       "TotalRecurringCharge        45.00   60.00   400.00  \n",
       "DirectorAssistedCalls        0.25    0.99   159.39  \n",
       "OverageMinutes               2.00   40.00  4321.00  \n",
       "RoamingCalls                 0.00    0.20  1112.40  \n",
       "PercChangeMinutes           -4.00   65.00  5192.00  \n",
       "PercChangeRevenues          -0.30    1.55  2483.50  \n",
       "DroppedCalls                 3.00    7.70   221.70  \n",
       "BlockedCalls                 1.00    3.70   384.30  \n",
       "UnansweredCalls             16.30   36.30   848.70  \n",
       "CustomerCareCalls            0.00    1.70   327.30  \n",
       "ThreewayCalls                0.00    0.30    66.00  \n",
       "ReceivedCalls               52.80  153.50  2692.40  \n",
       "OutboundCalls               13.70   34.00   644.30  \n",
       "InboundCalls                 2.00    9.30   519.30  \n",
       "PeakCallsInOut              62.00  121.30  2090.70  \n",
       "OffPeakCallsInOut           35.70   88.70  1474.70  \n",
       "DroppedBlockedCalls          5.30   12.30   411.70  \n",
       "CallForwardingCalls          0.00    0.00    81.30  \n",
       "CallWaitingCalls             0.30    1.30   212.70  \n",
       "MonthsInService             16.00   24.00    61.00  \n",
       "UniqueSubs                   1.00    2.00   196.00  \n",
       "ActiveSubs                   1.00    2.00    53.00  \n",
       "Handsets                     1.00    2.00    24.00  \n",
       "HandsetModels                1.00    2.00    15.00  \n",
       "CurrentEquipmentDays       329.00  515.00  1812.00  \n",
       "AgeHH1                      36.00   48.00    99.00  \n",
       "AgeHH2                       0.00   42.00    99.00  \n",
       "RetentionCalls               0.00    0.00     4.00  \n",
       "RetentionOffersAccepted      0.00    0.00     3.00  \n",
       "ReferralsMadeBySubscriber    0.00    0.00    35.00  \n",
       "IncomeGroup                  5.00    7.00     9.00  \n",
       "AdjustmentsToCreditRating    0.00    0.00    25.00  "
      ]
     },
     "execution_count": 12,
     "metadata": {},
     "output_type": "execute_result"
    }
   ],
   "source": [
    "data.describe().T"
   ]
  },
  {
   "cell_type": "code",
   "execution_count": 20,
   "metadata": {},
   "outputs": [
    {
     "data": {
      "text/plain": [
       "30"
      ]
     },
     "execution_count": 20,
     "metadata": {},
     "output_type": "execute_result"
    }
   ],
   "source": [
    "# log transform skewed variables\n",
    "skew = data[num_cols].skew().sort_values(ascending = False)\n",
    "skew = skew[skew > 0.75].index.tolist()\n",
    "len(skew)"
   ]
  },
  {
   "cell_type": "code",
   "execution_count": 14,
   "metadata": {},
   "outputs": [],
   "source": [
    "for c in skew:\n",
    "    if data[c].min() < 0:\n",
    "        data[c] = data[c] - data[c].min()\n",
    "    data[c] = data[c].apply(np.log1p)"
   ]
  },
  {
   "cell_type": "code",
   "execution_count": 35,
   "metadata": {
    "scrolled": false
   },
   "outputs": [
    {
     "data": {
      "image/png": "[encoded data removed]",
      "text/plain": [
       "<Figure size 1152x1152 with 36 Axes>"
      ]
     },
     "metadata": {
      "needs_background": "light"
     },
     "output_type": "display_data"
    }
   ],
   "source": [
    "params = {'axes.titlesize':'10',\n",
    "          'xtick.labelsize':'8',\n",
    "          'ytick.labelsize':'8'}\n",
    "matplotlib.rcParams.update(params)\n",
    "data[num_cols].hist(figsize = (16, 16));\n",
    "plt.savefig('his.png')"
   ]
  },
  {
   "cell_type": "markdown",
   "metadata": {},
   "source": [
    "### Non-numerical Features"
   ]
  },
  {
   "cell_type": "code",
   "execution_count": 23,
   "metadata": {},
   "outputs": [],
   "source": [
    "data['Churn'] = data['Churn'].replace({'Yes':1, 'No': 0})"
   ]
  },
  {
   "cell_type": "code",
   "execution_count": 24,
   "metadata": {},
   "outputs": [],
   "source": [
    "uniq_val = pd.DataFrame([[c, len(data[c].unique())] for c in data[obj_cols].columns], \n",
    "                        columns = ['Variable', 'Number']).set_index('Variable')"
   ]
  },
  {
   "cell_type": "code",
   "execution_count": 25,
   "metadata": {
    "scrolled": true
   },
   "outputs": [
    {
     "data": {
      "text/plain": [
       "['Churn',\n",
       " 'ChildrenInHH',\n",
       " 'HandsetRefurbished',\n",
       " 'HandsetWebCapable',\n",
       " 'TruckOwner',\n",
       " 'RVOwner',\n",
       " 'Homeownership',\n",
       " 'BuysViaMailOrder',\n",
       " 'RespondsToMailOffers',\n",
       " 'OptOutMailings',\n",
       " 'NonUSTravel',\n",
       " 'OwnsComputer',\n",
       " 'HasCreditCard',\n",
       " 'NewCellphoneUser',\n",
       " 'NotNewCellphoneUser',\n",
       " 'OwnsMotorcycle',\n",
       " 'MadeCallToRetentionTeam']"
      ]
     },
     "execution_count": 25,
     "metadata": {},
     "output_type": "execute_result"
    }
   ],
   "source": [
    "# binary features\n",
    "bin_cols = uniq_val[uniq_val.Number == 2].index.tolist()\n",
    "bin_cols"
   ]
  },
  {
   "cell_type": "code",
   "execution_count": 26,
   "metadata": {},
   "outputs": [],
   "source": [
    "# binarize binary columns\n",
    "for c in bin_cols:\n",
    "    data[c] = LabelBinarizer().fit_transform(data[c])"
   ]
  },
  {
   "cell_type": "code",
   "execution_count": 315,
   "metadata": {},
   "outputs": [
    {
     "data": {
      "image/png": "[encoded data removed]",
      "text/plain": [
       "<Figure size 864x720 with 16 Axes>"
      ]
     },
     "metadata": {
      "needs_background": "light"
     },
     "output_type": "display_data"
    }
   ],
   "source": [
    "# plot distribution of binary variables\n",
    "data[bin_cols].hist(figsize = (12, 10));\n",
    "plt.savefig('bin_hist.png')"
   ]
  },
  {
   "cell_type": "code",
   "execution_count": 27,
   "metadata": {},
   "outputs": [
    {
     "data": {
      "text/plain": [
       "['HandsetPrice', 'CreditRating', 'PrizmCode', 'Occupation', 'MaritalStatus']"
      ]
     },
     "execution_count": 27,
     "metadata": {},
     "output_type": "execute_result"
    }
   ],
   "source": [
    "# other categorical features\n",
    "other_cols = uniq_val[uniq_val.Number > 2].index.tolist()\n",
    "other_cols"
   ]
  },
  {
   "cell_type": "code",
   "execution_count": 28,
   "metadata": {
    "scrolled": true
   },
   "outputs": [
    {
     "data": {
      "text/plain": [
       "2-High       0.372069\n",
       "1-Highest    0.166944\n",
       "3-Good       0.164750\n",
       "5-Low        0.127314\n",
       "4-Medium     0.104943\n",
       "7-Lowest     0.041413\n",
       "6-VeryLow    0.022567\n",
       "Name: CreditRating, dtype: float64"
      ]
     },
     "execution_count": 28,
     "metadata": {},
     "output_type": "execute_result"
    }
   ],
   "source": [
    "# ordinal variable\n",
    "data.CreditRating.value_counts(normalize = True)"
   ]
  },
  {
   "cell_type": "code",
   "execution_count": 29,
   "metadata": {},
   "outputs": [],
   "source": [
    "# transform to int\n",
    "data['CreditRating'] = [x[0] for x in data['CreditRating']]\n",
    "data['CreditRating'] = LabelEncoder().fit_transform(data['CreditRating'])"
   ]
  },
  {
   "cell_type": "code",
   "execution_count": 30,
   "metadata": {},
   "outputs": [],
   "source": [
    "# one-hot encode other columns\n",
    "other_cols.remove('CreditRating')\n",
    "data = pd.get_dummies(data, columns = other_cols, drop_first=True)"
   ]
  },
  {
   "cell_type": "markdown",
   "metadata": {},
   "source": [
    "## Feature Engineering"
   ]
  },
  {
   "cell_type": "code",
   "execution_count": 31,
   "metadata": {},
   "outputs": [],
   "source": [
    "# scale features\n",
    "y = data.Churn\n",
    "s = MinMaxScaler()\n",
    "X = data.copy()\n",
    "X.drop(columns = ['Churn'])\n",
    "X = s.fit_transform(X)"
   ]
  },
  {
   "cell_type": "code",
   "execution_count": 32,
   "metadata": {},
   "outputs": [
    {
     "data": {
      "text/plain": [
       "(51047, 79)"
      ]
     },
     "execution_count": 32,
     "metadata": {},
     "output_type": "execute_result"
    }
   ],
   "source": [
    "X.shape"
   ]
  },
  {
   "cell_type": "markdown",
   "metadata": {},
   "source": [
    "### PCA"
   ]
  },
  {
   "cell_type": "code",
   "execution_count": 33,
   "metadata": {
    "scrolled": true
   },
   "outputs": [
    {
     "data": {
      "image/png": "[encoded data removed]",
      "text/plain": [
       "<Figure size 432x288 with 1 Axes>"
      ]
     },
     "metadata": {
      "needs_background": "light"
     },
     "output_type": "display_data"
    }
   ],
   "source": [
    "# plot the explained variance\n",
    "X1 = X\n",
    "var = []\n",
    "for n in range(1, 80):\n",
    "    pca = PCA(n_components = n)\n",
    "    x = pca.fit_transform(X1)\n",
    "    var.append(pca.explained_variance_ratio_.sum())\n",
    "\n",
    "plt.plot(range(1, 80), var)\n",
    "plt.xlabel('Number of Components')\n",
    "plt.ylabel('Explained Variance Ratio')\n",
    "plt.savefig('var.png')"
   ]
  },
  {
   "cell_type": "code",
   "execution_count": 35,
   "metadata": {
    "scrolled": true
   },
   "outputs": [
    {
     "data": {
      "text/plain": [
       "0.9191732451227085"
      ]
     },
     "execution_count": 35,
     "metadata": {},
     "output_type": "execute_result"
    }
   ],
   "source": [
    "# choose n = 25\n",
    "pca = PCA(n_components = 25)\n",
    "X1 = pca.fit_transform(X)\n",
    "pca.explained_variance_ratio_.sum()"
   ]
  },
  {
   "cell_type": "code",
   "execution_count": 36,
   "metadata": {
    "scrolled": false
   },
   "outputs": [
    {
     "data": {
      "image/png": "[encoded data removed]",
      "text/plain": [
       "<Figure size 576x576 with 2 Axes>"
      ]
     },
     "metadata": {
      "needs_background": "light"
     },
     "output_type": "display_data"
    }
   ],
   "source": [
    "# visualize correlations between features and label\n",
    "data1 = pd.DataFrame(X1)\n",
    "data1['Churn'] = data.Churn\n",
    "corr = data1.corr()\n",
    "plt.figure(figsize = (8, 8))\n",
    "sns.heatmap(corr);\n",
    "plt.savefig('heat.png')"
   ]
  },
  {
   "cell_type": "code",
   "execution_count": 37,
   "metadata": {},
   "outputs": [
    {
     "data": {
      "text/plain": [
       "(51047, 26)"
      ]
     },
     "execution_count": 37,
     "metadata": {},
     "output_type": "execute_result"
    }
   ],
   "source": [
    "data1.shape"
   ]
  },
  {
   "cell_type": "markdown",
   "metadata": {},
   "source": [
    "## Training"
   ]
  },
  {
   "cell_type": "code",
   "execution_count": 38,
   "metadata": {},
   "outputs": [],
   "source": [
    "# stratified split\n",
    "data1.drop(columns = ['Churn'], inplace = True)\n",
    "\n",
    "sp = StratifiedShuffleSplit(n_splits = 1, test_size = 0.3, random_state = 708)\n",
    "t, test = next(sp.split(data1, y))\n",
    "# get training and testing data\n",
    "X_t = data1.iloc[t, :]\n",
    "X_test = data1.iloc[test, :]\n",
    "y_t = y.iloc[t]\n",
    "y_test = y.iloc[test]"
   ]
  },
  {
   "cell_type": "code",
   "execution_count": 39,
   "metadata": {},
   "outputs": [
    {
     "data": {
      "text/plain": [
       "(35732, 25)"
      ]
     },
     "execution_count": 39,
     "metadata": {},
     "output_type": "execute_result"
    }
   ],
   "source": [
    "X_t.shape"
   ]
  },
  {
   "cell_type": "code",
   "execution_count": 40,
   "metadata": {},
   "outputs": [],
   "source": [
    "# split again to get validation data\n",
    "sp = StratifiedShuffleSplit(n_splits = 1, test_size = 0.3, random_state = 798)\n",
    "train, val = next(sp.split(X_t, y_t))\n",
    "# get training and validation data\n",
    "X_train = X_t.iloc[train, :]\n",
    "X_val = X_t.iloc[val, :]\n",
    "y_train = y_t.iloc[train]\n",
    "y_val = y_t.iloc[val]"
   ]
  },
  {
   "cell_type": "code",
   "execution_count": 41,
   "metadata": {
    "scrolled": true
   },
   "outputs": [
    {
     "name": "stdout",
     "output_type": "stream",
     "text": [
      "(25012, 25)\n",
      "(10720, 25)\n",
      "(15315, 25)\n"
     ]
    }
   ],
   "source": [
    "print(X_train.shape)\n",
    "print(X_val.shape)\n",
    "print(X_test.shape)"
   ]
  },
  {
   "cell_type": "markdown",
   "metadata": {},
   "source": [
    "### Logistic Regression"
   ]
  },
  {
   "cell_type": "code",
   "execution_count": 42,
   "metadata": {},
   "outputs": [
    {
     "data": {
      "text/plain": [
       "LogisticRegression(solver='liblinear')"
      ]
     },
     "execution_count": 42,
     "metadata": {},
     "output_type": "execute_result"
    }
   ],
   "source": [
    "lr = LogisticRegression(penalty = 'l2', solver = 'liblinear')\n",
    "lr.fit(X_t, y_t)"
   ]
  },
  {
   "cell_type": "code",
   "execution_count": 43,
   "metadata": {},
   "outputs": [
    {
     "data": {
      "image/png": "[encoded data removed]",
      "text/plain": [
       "<Figure size 432x288 with 2 Axes>"
      ]
     },
     "metadata": {},
     "output_type": "display_data"
    }
   ],
   "source": [
    "test_pred = lr.predict(X_test)\n",
    "cm_test = metrics.confusion_matrix(y_test, test_pred)\n",
    "sns.set(font_scale=2)\n",
    "sns.heatmap(cm_test, annot = True, fmt = 'd');\n",
    "plt.xlabel('Predicted Label');\n",
    "plt.ylabel('True Label');"
   ]
  },
  {
   "cell_type": "markdown",
   "metadata": {},
   "source": [
    "### Model 1"
   ]
  },
  {
   "cell_type": "code",
   "execution_count": 46,
   "metadata": {
    "scrolled": true
   },
   "outputs": [
    {
     "name": "stdout",
     "output_type": "stream",
     "text": [
      "Model: \"sequential_1\"\n",
      "_________________________________________________________________\n",
      "Layer (type)                 Output Shape              Param #   \n",
      "=================================================================\n",
      "dense_2 (Dense)              (None, 512)               13312     \n",
      "_________________________________________________________________\n",
      "activation_2 (Activation)    (None, 512)               0         \n",
      "_________________________________________________________________\n",
      "dropout_1 (Dropout)          (None, 512)               0         \n",
      "_________________________________________________________________\n",
      "dense_3 (Dense)              (None, 1)                 513       \n",
      "_________________________________________________________________\n",
      "activation_3 (Activation)    (None, 1)                 0         \n",
      "=================================================================\n",
      "Total params: 13,825\n",
      "Trainable params: 13,825\n",
      "Non-trainable params: 0\n",
      "_________________________________________________________________\n"
     ]
    }
   ],
   "source": [
    "# simple neural netwrok\n",
    "in_shape = (25,)\n",
    "out_dim = 1\n",
    "\n",
    "m1 = Sequential()\n",
    "m1.add(Dense(512, input_shape = in_shape))\n",
    "m1.add(Activation('relu'))\n",
    "m1.add(Dropout(0.5))\n",
    "m1.add(Dense(out_dim))\n",
    "m1.add(Activation('sigmoid'))\n",
    "m1.summary()"
   ]
  },
  {
   "cell_type": "code",
   "execution_count": 58,
   "metadata": {},
   "outputs": [
    {
     "name": "stdout",
     "output_type": "stream",
     "text": [
      "WARNING:tensorflow:Falling back from v2 loop because of error: Failed to find data adapter that can handle input: <class 'pandas.core.frame.DataFrame'>, <class 'NoneType'>\n",
      "Train on 25012 samples, validate on 10720 samples\n",
      "25012/25012 [==============================] - 1s 57us/sample - loss: 2.1910e-04 - accuracy: 1.0000 - val_loss: 2.8485e-05 - val_accuracy: 1.0000\n"
     ]
    },
    {
     "data": {
      "text/plain": [
       "<tensorflow.python.keras.callbacks.History at 0x7ff59001af90>"
      ]
     },
     "execution_count": 58,
     "metadata": {},
     "output_type": "execute_result"
    }
   ],
   "source": [
    "batch = 512\n",
    "opt = tensorflow.keras.optimizers.Adam()\n",
    "m1.compile(loss = 'binary_crossentropy', optimizer = opt, metrics = ['accuracy'])\n",
    "m1.fit(X_train, y_train,\n",
    "              batch_size=batch,\n",
    "              epochs=1,\n",
    "              validation_data=(X_val, y_val),\n",
    "              shuffle=True)"
   ]
  },
  {
   "cell_type": "code",
   "execution_count": 59,
   "metadata": {},
   "outputs": [
    {
     "name": "stdout",
     "output_type": "stream",
     "text": [
      "WARNING:tensorflow:Falling back from v2 loop because of error: Failed to find data adapter that can handle input: <class 'pandas.core.frame.DataFrame'>, <class 'NoneType'>\n"
     ]
    },
    {
     "data": {
      "image/png": "[encoded data removed]",
      "text/plain": [
       "<Figure size 432x288 with 2 Axes>"
      ]
     },
     "metadata": {},
     "output_type": "display_data"
    }
   ],
   "source": [
    "pred1 = m1.predict(X_test)\n",
    "cm1 = metrics.confusion_matrix(y_test, np.round(pred1))\n",
    "sns.set(font_scale=2)\n",
    "sns.heatmap(cm1, annot = True, fmt = 'd');\n",
    "plt.xlabel('Predicted Label');\n",
    "plt.ylabel('True Label');"
   ]
  },
  {
   "cell_type": "markdown",
   "metadata": {},
   "source": [
    "### Model 2"
   ]
  },
  {
   "cell_type": "code",
   "execution_count": 52,
   "metadata": {},
   "outputs": [
    {
     "name": "stdout",
     "output_type": "stream",
     "text": [
      "Model: \"sequential_3\"\n",
      "_________________________________________________________________\n",
      "Layer (type)                 Output Shape              Param #   \n",
      "=================================================================\n",
      "dense_6 (Dense)              (None, 16)                416       \n",
      "_________________________________________________________________\n",
      "activation_6 (Activation)    (None, 16)                0         \n",
      "_________________________________________________________________\n",
      "dropout_3 (Dropout)          (None, 16)                0         \n",
      "_________________________________________________________________\n",
      "dense_7 (Dense)              (None, 1)                 17        \n",
      "_________________________________________________________________\n",
      "activation_7 (Activation)    (None, 1)                 0         \n",
      "=================================================================\n",
      "Total params: 433\n",
      "Trainable params: 433\n",
      "Non-trainable params: 0\n",
      "_________________________________________________________________\n"
     ]
    }
   ],
   "source": [
    "in_shape = (25,)\n",
    "out_dim = 1\n",
    "\n",
    "m2 = Sequential()\n",
    "m2.add(Dense(16, input_shape = in_shape))\n",
    "m2.add(Activation('relu'))\n",
    "m2.add(Dropout(0.5))\n",
    "m2.add(Dense(out_dim))\n",
    "m2.add(Activation('sigmoid'))\n",
    "m2.summary()"
   ]
  },
  {
   "cell_type": "code",
   "execution_count": 53,
   "metadata": {},
   "outputs": [
    {
     "name": "stdout",
     "output_type": "stream",
     "text": [
      "WARNING:tensorflow:Falling back from v2 loop because of error: Failed to find data adapter that can handle input: <class 'pandas.core.frame.DataFrame'>, <class 'NoneType'>\n",
      "Train on 25012 samples, validate on 10720 samples\n",
      "25012/25012 [==============================] - 1s 39us/sample - loss: 0.6509 - accuracy: 0.6452 - val_loss: 0.5886 - val_accuracy: 0.7632\n"
     ]
    },
    {
     "data": {
      "text/plain": [
       "<tensorflow.python.keras.callbacks.History at 0x7ff58e317e10>"
      ]
     },
     "execution_count": 53,
     "metadata": {},
     "output_type": "execute_result"
    }
   ],
   "source": [
    "batch = 512\n",
    "opt = tensorflow.keras.optimizers.Adam()\n",
    "m2.compile(loss = 'binary_crossentropy', optimizer = opt, metrics = ['accuracy'])\n",
    "m2.fit(X_train, y_train,\n",
    "              batch_size=batch,\n",
    "              epochs=1,\n",
    "              validation_data=(X_val, y_val),\n",
    "              shuffle=True)"
   ]
  },
  {
   "cell_type": "code",
   "execution_count": 54,
   "metadata": {},
   "outputs": [
    {
     "name": "stdout",
     "output_type": "stream",
     "text": [
      "WARNING:tensorflow:Falling back from v2 loop because of error: Failed to find data adapter that can handle input: <class 'pandas.core.frame.DataFrame'>, <class 'NoneType'>\n"
     ]
    },
    {
     "data": {
      "image/png": "[encoded data removed]",
      "text/plain": [
       "<Figure size 432x288 with 2 Axes>"
      ]
     },
     "metadata": {},
     "output_type": "display_data"
    }
   ],
   "source": [
    "pred2 = m2.predict(X_test)\n",
    "cm2 = metrics.confusion_matrix(y_test, np.round(pred2))\n",
    "sns.set(font_scale=2)\n",
    "sns.heatmap(cm2, annot = True, fmt = 'd');\n",
    "plt.xlabel('Predicted Label');\n",
    "plt.ylabel('True Label');"
   ]
  },
  {
   "cell_type": "markdown",
   "metadata": {},
   "source": [
    "### CNN"
   ]
  },
  {
   "cell_type": "code",
   "execution_count": 55,
   "metadata": {
    "scrolled": true
   },
   "outputs": [
    {
     "name": "stdout",
     "output_type": "stream",
     "text": [
      "Model: \"sequential_4\"\n",
      "_________________________________________________________________\n",
      "Layer (type)                 Output Shape              Param #   \n",
      "=================================================================\n",
      "conv1d (Conv1D)              (None, 1, 32)             4032      \n",
      "_________________________________________________________________\n",
      "activation_8 (Activation)    (None, 1, 32)             0         \n",
      "_________________________________________________________________\n",
      "flatten (Flatten)            (None, 32)                0         \n",
      "_________________________________________________________________\n",
      "dense_8 (Dense)              (None, 1)                 33        \n",
      "_________________________________________________________________\n",
      "activation_9 (Activation)    (None, 1)                 0         \n",
      "=================================================================\n",
      "Total params: 4,065\n",
      "Trainable params: 4,065\n",
      "Non-trainable params: 0\n",
      "_________________________________________________________________\n"
     ]
    }
   ],
   "source": [
    "m3 = Sequential()\n",
    "m3.add(Conv1D(32, 5, padding = 'same', input_shape = (1, 25)))\n",
    "m3.add(Activation('relu'))\n",
    "m3.add(Flatten())\n",
    "m3.add(Dense(out_dim))\n",
    "m3.add(Activation('sigmoid'))\n",
    "m3.summary()"
   ]
  },
  {
   "cell_type": "code",
   "execution_count": 56,
   "metadata": {},
   "outputs": [
    {
     "name": "stdout",
     "output_type": "stream",
     "text": [
      "Train on 25012 samples, validate on 10720 samples\n",
      "25012/25012 [==============================] - 1s 56us/sample - loss: 0.6317 - accuracy: 0.7231 - val_loss: 0.5684 - val_accuracy: 0.7618\n"
     ]
    },
    {
     "data": {
      "text/plain": [
       "<tensorflow.python.keras.callbacks.History at 0x7ff5955161d0>"
      ]
     },
     "execution_count": 56,
     "metadata": {},
     "output_type": "execute_result"
    }
   ],
   "source": [
    "batch = 512\n",
    "# reshape X, y for convolutional layer\n",
    "X_3d_train = X_train.to_numpy().reshape(X_train.shape[0], 1, X_train.shape[1])\n",
    "X_3d_val = X_val.to_numpy().reshape(X_val.shape[0], 1, X_val.shape[1])\n",
    "y_3d_train = y_train.to_numpy()\n",
    "y_3d_val = y_val.to_numpy()\n",
    "\n",
    "opt = tensorflow.keras.optimizers.Adam()\n",
    "m3.compile(loss = 'binary_crossentropy', optimizer = opt, metrics = ['accuracy'])\n",
    "m3.fit(X_3d_train, y_3d_train,\n",
    "              batch_size=batch,\n",
    "              epochs=1,\n",
    "              validation_data=(X_3d_val, y_3d_val))"
   ]
  },
  {
   "cell_type": "code",
   "execution_count": 57,
   "metadata": {},
   "outputs": [
    {
     "data": {
      "image/png": "[encoded data removed]",
      "text/plain": [
       "<Figure size 432x288 with 2 Axes>"
      ]
     },
     "metadata": {},
     "output_type": "display_data"
    }
   ],
   "source": [
    "X_3d_test = X_test.to_numpy().reshape(X_test.shape[0], 1, X_test.shape[1])\n",
    "y_3d_test = y_test.to_numpy()\n",
    "\n",
    "pred3 = m3.predict(X_3d_test)\n",
    "cm3 = metrics.confusion_matrix(y_3d_test, np.round(pred3))\n",
    "sns.set(font_scale=2)\n",
    "sns.heatmap(cm3, annot = True, fmt = 'd');\n",
    "plt.xlabel('Predicted Label');\n",
    "plt.ylabel('True Label');"
   ]
  },
  {
   "cell_type": "code",
   "execution_count": null,
   "metadata": {},
   "outputs": [],
   "source": []
  },
  {
   "cell_type": "code",
   "execution_count": null,
   "metadata": {},
   "outputs": [],
   "source": []
  }
 ],
 "metadata": {
  "kernelspec": {
   "display_name": "Python 3",
   "language": "python",
   "name": "python3"
  },
  "language_info": {
   "codemirror_mode": {
    "name": "ipython",
    "version": 3
   },
   "file_extension": ".py",
   "mimetype": "text/x-python",
   "name": "python",
   "nbconvert_exporter": "python",
   "pygments_lexer": "ipython3",
   "version": "3.7.7"
  }
 },
 "nbformat": 4,
 "nbformat_minor": 4
}
